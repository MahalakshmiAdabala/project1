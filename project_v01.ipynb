{
  "nbformat": 4,
  "nbformat_minor": 0,
  "metadata": {
    "colab": {
      "provenance": []
    },
    "kernelspec": {
      "name": "python3",
      "display_name": "Python 3"
    },
    "language_info": {
      "name": "python"
    }
  },
  "cells": [
    {
      "cell_type": "markdown",
      "source": [
        "# Problem Statement\n",
        "\n",
        "Road Traffic Severity Classification\n",
        "\n",
        "The target feature is Accident_severity which is a multi-class variable. The task is to classify this variable based on the other 31 features step-by-step by going through each day's task. Your metric for evaluation will be f1-score\n"
      ],
      "metadata": {
        "id": "usuQkYbFS306"
      }
    },
    {
      "cell_type": "markdown",
      "source": [
        "# Importing libraries "
      ],
      "metadata": {
        "id": "o2IrieeoXWkS"
      }
    },
    {
      "cell_type": "code",
      "source": [
        "import numpy as np\n",
        "import pandas as pd\n",
        "import matplotlib.pyplot as plt\n",
        "import seaborn as sns\n",
        "import time\n",
        "\n",
        "from collections import Counter\n",
        "from imblearn.over_sampling import SMOTE\n",
        "import matplotlib.ticker as ticker\n",
        "from sklearn.model_selection import train_test_split\n",
        "from sklearn.preprocessing import StandardScaler,MinMaxScaler,LabelEncoder\n",
        "from sklearn.pipeline import Pipeline\n",
        "from sklearn.model_selection import RepeatedStratifiedKFold,GridSearchCV\n",
        "\n",
        "from sklearn.svm import SVC\n",
        "from sklearn.neighbors import KNeighborsClassifier\n",
        "from sklearn.ensemble import RandomForestClassifier,AdaBoostClassifier,GradientBoostingClassifier\n",
        "from sklearn.metrics import accuracy_score,classification_report,confusion_matrix\n",
        "from sklearn.model_selection import KFold # import KFold\n",
        "\n",
        "import warnings\n",
        "warnings.filterwarnings('ignore')"
      ],
      "metadata": {
        "id": "YzpCyHCZXqRZ"
      },
      "execution_count": 19,
      "outputs": []
    },
    {
      "cell_type": "markdown",
      "source": [
        "# Data loading and reading the data"
      ],
      "metadata": {
        "id": "GXHh-kZJhcAQ"
      }
    },
    {
      "cell_type": "code",
      "source": [
        "data = pd.read_csv(\"https://raw.githubusercontent.com/visalakshi2001/rta-severity-prediction/main/RTA%20Dataset.csv\")\n",
        "data.head()"
      ],
      "metadata": {
        "colab": {
          "base_uri": "https://localhost:8080/",
          "height": 351
        },
        "id": "ZCLVFZKLX_rC",
        "outputId": "ce147b1d-ef0e-4a30-92aa-ab717a4576f3"
      },
      "execution_count": 4,
      "outputs": [
        {
          "output_type": "execute_result",
          "data": {
            "text/plain": [
              "       Time Day_of_week Age_band_of_driver Sex_of_driver   Educational_level  \\\n",
              "0  17:02:00      Monday              18-30          Male   Above high school   \n",
              "1  17:02:00      Monday              31-50          Male  Junior high school   \n",
              "2  17:02:00      Monday              18-30          Male  Junior high school   \n",
              "3   1:06:00      Sunday              18-30          Male  Junior high school   \n",
              "4   1:06:00      Sunday              18-30          Male  Junior high school   \n",
              "\n",
              "  Vehicle_driver_relation Driving_experience      Type_of_vehicle  \\\n",
              "0                Employee              1-2yr           Automobile   \n",
              "1                Employee         Above 10yr  Public (> 45 seats)   \n",
              "2                Employee              1-2yr      Lorry (41?100Q)   \n",
              "3                Employee             5-10yr  Public (> 45 seats)   \n",
              "4                Employee              2-5yr                  NaN   \n",
              "\n",
              "  Owner_of_vehicle Service_year_of_vehicle  ... Vehicle_movement  \\\n",
              "0            Owner              Above 10yr  ...   Going straight   \n",
              "1            Owner                 5-10yrs  ...   Going straight   \n",
              "2            Owner                     NaN  ...   Going straight   \n",
              "3     Governmental                     NaN  ...   Going straight   \n",
              "4            Owner                 5-10yrs  ...   Going straight   \n",
              "\n",
              "    Casualty_class Sex_of_casualty Age_band_of_casualty Casualty_severity  \\\n",
              "0               na              na                   na                na   \n",
              "1               na              na                   na                na   \n",
              "2  Driver or rider            Male                31-50                 3   \n",
              "3       Pedestrian          Female                18-30                 3   \n",
              "4               na              na                   na                na   \n",
              "\n",
              "  Work_of_casuality Fitness_of_casuality Pedestrian_movement  \\\n",
              "0               NaN                  NaN    Not a Pedestrian   \n",
              "1               NaN                  NaN    Not a Pedestrian   \n",
              "2            Driver                  NaN    Not a Pedestrian   \n",
              "3            Driver               Normal    Not a Pedestrian   \n",
              "4               NaN                  NaN    Not a Pedestrian   \n",
              "\n",
              "            Cause_of_accident Accident_severity  \n",
              "0             Moving Backward     Slight Injury  \n",
              "1                  Overtaking     Slight Injury  \n",
              "2   Changing lane to the left    Serious Injury  \n",
              "3  Changing lane to the right     Slight Injury  \n",
              "4                  Overtaking     Slight Injury  \n",
              "\n",
              "[5 rows x 32 columns]"
            ],
            "text/html": [
              "\n",
              "  <div id=\"df-31376bc5-5501-472c-b678-8f060fb7e0a6\">\n",
              "    <div class=\"colab-df-container\">\n",
              "      <div>\n",
              "<style scoped>\n",
              "    .dataframe tbody tr th:only-of-type {\n",
              "        vertical-align: middle;\n",
              "    }\n",
              "\n",
              "    .dataframe tbody tr th {\n",
              "        vertical-align: top;\n",
              "    }\n",
              "\n",
              "    .dataframe thead th {\n",
              "        text-align: right;\n",
              "    }\n",
              "</style>\n",
              "<table border=\"1\" class=\"dataframe\">\n",
              "  <thead>\n",
              "    <tr style=\"text-align: right;\">\n",
              "      <th></th>\n",
              "      <th>Time</th>\n",
              "      <th>Day_of_week</th>\n",
              "      <th>Age_band_of_driver</th>\n",
              "      <th>Sex_of_driver</th>\n",
              "      <th>Educational_level</th>\n",
              "      <th>Vehicle_driver_relation</th>\n",
              "      <th>Driving_experience</th>\n",
              "      <th>Type_of_vehicle</th>\n",
              "      <th>Owner_of_vehicle</th>\n",
              "      <th>Service_year_of_vehicle</th>\n",
              "      <th>...</th>\n",
              "      <th>Vehicle_movement</th>\n",
              "      <th>Casualty_class</th>\n",
              "      <th>Sex_of_casualty</th>\n",
              "      <th>Age_band_of_casualty</th>\n",
              "      <th>Casualty_severity</th>\n",
              "      <th>Work_of_casuality</th>\n",
              "      <th>Fitness_of_casuality</th>\n",
              "      <th>Pedestrian_movement</th>\n",
              "      <th>Cause_of_accident</th>\n",
              "      <th>Accident_severity</th>\n",
              "    </tr>\n",
              "  </thead>\n",
              "  <tbody>\n",
              "    <tr>\n",
              "      <th>0</th>\n",
              "      <td>17:02:00</td>\n",
              "      <td>Monday</td>\n",
              "      <td>18-30</td>\n",
              "      <td>Male</td>\n",
              "      <td>Above high school</td>\n",
              "      <td>Employee</td>\n",
              "      <td>1-2yr</td>\n",
              "      <td>Automobile</td>\n",
              "      <td>Owner</td>\n",
              "      <td>Above 10yr</td>\n",
              "      <td>...</td>\n",
              "      <td>Going straight</td>\n",
              "      <td>na</td>\n",
              "      <td>na</td>\n",
              "      <td>na</td>\n",
              "      <td>na</td>\n",
              "      <td>NaN</td>\n",
              "      <td>NaN</td>\n",
              "      <td>Not a Pedestrian</td>\n",
              "      <td>Moving Backward</td>\n",
              "      <td>Slight Injury</td>\n",
              "    </tr>\n",
              "    <tr>\n",
              "      <th>1</th>\n",
              "      <td>17:02:00</td>\n",
              "      <td>Monday</td>\n",
              "      <td>31-50</td>\n",
              "      <td>Male</td>\n",
              "      <td>Junior high school</td>\n",
              "      <td>Employee</td>\n",
              "      <td>Above 10yr</td>\n",
              "      <td>Public (&gt; 45 seats)</td>\n",
              "      <td>Owner</td>\n",
              "      <td>5-10yrs</td>\n",
              "      <td>...</td>\n",
              "      <td>Going straight</td>\n",
              "      <td>na</td>\n",
              "      <td>na</td>\n",
              "      <td>na</td>\n",
              "      <td>na</td>\n",
              "      <td>NaN</td>\n",
              "      <td>NaN</td>\n",
              "      <td>Not a Pedestrian</td>\n",
              "      <td>Overtaking</td>\n",
              "      <td>Slight Injury</td>\n",
              "    </tr>\n",
              "    <tr>\n",
              "      <th>2</th>\n",
              "      <td>17:02:00</td>\n",
              "      <td>Monday</td>\n",
              "      <td>18-30</td>\n",
              "      <td>Male</td>\n",
              "      <td>Junior high school</td>\n",
              "      <td>Employee</td>\n",
              "      <td>1-2yr</td>\n",
              "      <td>Lorry (41?100Q)</td>\n",
              "      <td>Owner</td>\n",
              "      <td>NaN</td>\n",
              "      <td>...</td>\n",
              "      <td>Going straight</td>\n",
              "      <td>Driver or rider</td>\n",
              "      <td>Male</td>\n",
              "      <td>31-50</td>\n",
              "      <td>3</td>\n",
              "      <td>Driver</td>\n",
              "      <td>NaN</td>\n",
              "      <td>Not a Pedestrian</td>\n",
              "      <td>Changing lane to the left</td>\n",
              "      <td>Serious Injury</td>\n",
              "    </tr>\n",
              "    <tr>\n",
              "      <th>3</th>\n",
              "      <td>1:06:00</td>\n",
              "      <td>Sunday</td>\n",
              "      <td>18-30</td>\n",
              "      <td>Male</td>\n",
              "      <td>Junior high school</td>\n",
              "      <td>Employee</td>\n",
              "      <td>5-10yr</td>\n",
              "      <td>Public (&gt; 45 seats)</td>\n",
              "      <td>Governmental</td>\n",
              "      <td>NaN</td>\n",
              "      <td>...</td>\n",
              "      <td>Going straight</td>\n",
              "      <td>Pedestrian</td>\n",
              "      <td>Female</td>\n",
              "      <td>18-30</td>\n",
              "      <td>3</td>\n",
              "      <td>Driver</td>\n",
              "      <td>Normal</td>\n",
              "      <td>Not a Pedestrian</td>\n",
              "      <td>Changing lane to the right</td>\n",
              "      <td>Slight Injury</td>\n",
              "    </tr>\n",
              "    <tr>\n",
              "      <th>4</th>\n",
              "      <td>1:06:00</td>\n",
              "      <td>Sunday</td>\n",
              "      <td>18-30</td>\n",
              "      <td>Male</td>\n",
              "      <td>Junior high school</td>\n",
              "      <td>Employee</td>\n",
              "      <td>2-5yr</td>\n",
              "      <td>NaN</td>\n",
              "      <td>Owner</td>\n",
              "      <td>5-10yrs</td>\n",
              "      <td>...</td>\n",
              "      <td>Going straight</td>\n",
              "      <td>na</td>\n",
              "      <td>na</td>\n",
              "      <td>na</td>\n",
              "      <td>na</td>\n",
              "      <td>NaN</td>\n",
              "      <td>NaN</td>\n",
              "      <td>Not a Pedestrian</td>\n",
              "      <td>Overtaking</td>\n",
              "      <td>Slight Injury</td>\n",
              "    </tr>\n",
              "  </tbody>\n",
              "</table>\n",
              "<p>5 rows × 32 columns</p>\n",
              "</div>\n",
              "      <button class=\"colab-df-convert\" onclick=\"convertToInteractive('df-31376bc5-5501-472c-b678-8f060fb7e0a6')\"\n",
              "              title=\"Convert this dataframe to an interactive table.\"\n",
              "              style=\"display:none;\">\n",
              "        \n",
              "  <svg xmlns=\"http://www.w3.org/2000/svg\" height=\"24px\"viewBox=\"0 0 24 24\"\n",
              "       width=\"24px\">\n",
              "    <path d=\"M0 0h24v24H0V0z\" fill=\"none\"/>\n",
              "    <path d=\"M18.56 5.44l.94 2.06.94-2.06 2.06-.94-2.06-.94-.94-2.06-.94 2.06-2.06.94zm-11 1L8.5 8.5l.94-2.06 2.06-.94-2.06-.94L8.5 2.5l-.94 2.06-2.06.94zm10 10l.94 2.06.94-2.06 2.06-.94-2.06-.94-.94-2.06-.94 2.06-2.06.94z\"/><path d=\"M17.41 7.96l-1.37-1.37c-.4-.4-.92-.59-1.43-.59-.52 0-1.04.2-1.43.59L10.3 9.45l-7.72 7.72c-.78.78-.78 2.05 0 2.83L4 21.41c.39.39.9.59 1.41.59.51 0 1.02-.2 1.41-.59l7.78-7.78 2.81-2.81c.8-.78.8-2.07 0-2.86zM5.41 20L4 18.59l7.72-7.72 1.47 1.35L5.41 20z\"/>\n",
              "  </svg>\n",
              "      </button>\n",
              "      \n",
              "  <style>\n",
              "    .colab-df-container {\n",
              "      display:flex;\n",
              "      flex-wrap:wrap;\n",
              "      gap: 12px;\n",
              "    }\n",
              "\n",
              "    .colab-df-convert {\n",
              "      background-color: #E8F0FE;\n",
              "      border: none;\n",
              "      border-radius: 50%;\n",
              "      cursor: pointer;\n",
              "      display: none;\n",
              "      fill: #1967D2;\n",
              "      height: 32px;\n",
              "      padding: 0 0 0 0;\n",
              "      width: 32px;\n",
              "    }\n",
              "\n",
              "    .colab-df-convert:hover {\n",
              "      background-color: #E2EBFA;\n",
              "      box-shadow: 0px 1px 2px rgba(60, 64, 67, 0.3), 0px 1px 3px 1px rgba(60, 64, 67, 0.15);\n",
              "      fill: #174EA6;\n",
              "    }\n",
              "\n",
              "    [theme=dark] .colab-df-convert {\n",
              "      background-color: #3B4455;\n",
              "      fill: #D2E3FC;\n",
              "    }\n",
              "\n",
              "    [theme=dark] .colab-df-convert:hover {\n",
              "      background-color: #434B5C;\n",
              "      box-shadow: 0px 1px 3px 1px rgba(0, 0, 0, 0.15);\n",
              "      filter: drop-shadow(0px 1px 2px rgba(0, 0, 0, 0.3));\n",
              "      fill: #FFFFFF;\n",
              "    }\n",
              "  </style>\n",
              "\n",
              "      <script>\n",
              "        const buttonEl =\n",
              "          document.querySelector('#df-31376bc5-5501-472c-b678-8f060fb7e0a6 button.colab-df-convert');\n",
              "        buttonEl.style.display =\n",
              "          google.colab.kernel.accessAllowed ? 'block' : 'none';\n",
              "\n",
              "        async function convertToInteractive(key) {\n",
              "          const element = document.querySelector('#df-31376bc5-5501-472c-b678-8f060fb7e0a6');\n",
              "          const dataTable =\n",
              "            await google.colab.kernel.invokeFunction('convertToInteractive',\n",
              "                                                     [key], {});\n",
              "          if (!dataTable) return;\n",
              "\n",
              "          const docLinkHtml = 'Like what you see? Visit the ' +\n",
              "            '<a target=\"_blank\" href=https://colab.research.google.com/notebooks/data_table.ipynb>data table notebook</a>'\n",
              "            + ' to learn more about interactive tables.';\n",
              "          element.innerHTML = '';\n",
              "          dataTable['output_type'] = 'display_data';\n",
              "          await google.colab.output.renderOutput(dataTable, element);\n",
              "          const docLink = document.createElement('div');\n",
              "          docLink.innerHTML = docLinkHtml;\n",
              "          element.appendChild(docLink);\n",
              "        }\n",
              "      </script>\n",
              "    </div>\n",
              "  </div>\n",
              "  "
            ]
          },
          "metadata": {},
          "execution_count": 4
        }
      ]
    },
    {
      "cell_type": "code",
      "source": [
        "df = data.copy()\n",
        "df.shape\n"
      ],
      "metadata": {
        "colab": {
          "base_uri": "https://localhost:8080/"
        },
        "id": "YlN3nVnEexQi",
        "outputId": "dd05f171-2e09-4a1a-a667-eab2b8d081b8"
      },
      "execution_count": 5,
      "outputs": [
        {
          "output_type": "execute_result",
          "data": {
            "text/plain": [
              "(12316, 32)"
            ]
          },
          "metadata": {},
          "execution_count": 5
        }
      ]
    },
    {
      "cell_type": "code",
      "source": [
        "df.info()"
      ],
      "metadata": {
        "colab": {
          "base_uri": "https://localhost:8080/"
        },
        "id": "wQCwmABlfJvs",
        "outputId": "44954729-15d1-4f97-983d-894b83c9ef53"
      },
      "execution_count": 6,
      "outputs": [
        {
          "output_type": "stream",
          "name": "stdout",
          "text": [
            "<class 'pandas.core.frame.DataFrame'>\n",
            "RangeIndex: 12316 entries, 0 to 12315\n",
            "Data columns (total 32 columns):\n",
            " #   Column                       Non-Null Count  Dtype \n",
            "---  ------                       --------------  ----- \n",
            " 0   Time                         12316 non-null  object\n",
            " 1   Day_of_week                  12316 non-null  object\n",
            " 2   Age_band_of_driver           12316 non-null  object\n",
            " 3   Sex_of_driver                12316 non-null  object\n",
            " 4   Educational_level            11575 non-null  object\n",
            " 5   Vehicle_driver_relation      11737 non-null  object\n",
            " 6   Driving_experience           11487 non-null  object\n",
            " 7   Type_of_vehicle              11366 non-null  object\n",
            " 8   Owner_of_vehicle             11834 non-null  object\n",
            " 9   Service_year_of_vehicle      8388 non-null   object\n",
            " 10  Defect_of_vehicle            7889 non-null   object\n",
            " 11  Area_accident_occured        12077 non-null  object\n",
            " 12  Lanes_or_Medians             11931 non-null  object\n",
            " 13  Road_allignment              12174 non-null  object\n",
            " 14  Types_of_Junction            11429 non-null  object\n",
            " 15  Road_surface_type            12144 non-null  object\n",
            " 16  Road_surface_conditions      12316 non-null  object\n",
            " 17  Light_conditions             12316 non-null  object\n",
            " 18  Weather_conditions           12316 non-null  object\n",
            " 19  Type_of_collision            12161 non-null  object\n",
            " 20  Number_of_vehicles_involved  12316 non-null  int64 \n",
            " 21  Number_of_casualties         12316 non-null  int64 \n",
            " 22  Vehicle_movement             12008 non-null  object\n",
            " 23  Casualty_class               12316 non-null  object\n",
            " 24  Sex_of_casualty              12316 non-null  object\n",
            " 25  Age_band_of_casualty         12316 non-null  object\n",
            " 26  Casualty_severity            12316 non-null  object\n",
            " 27  Work_of_casuality            9118 non-null   object\n",
            " 28  Fitness_of_casuality         9681 non-null   object\n",
            " 29  Pedestrian_movement          12316 non-null  object\n",
            " 30  Cause_of_accident            12316 non-null  object\n",
            " 31  Accident_severity            12316 non-null  object\n",
            "dtypes: int64(2), object(30)\n",
            "memory usage: 3.0+ MB\n"
          ]
        }
      ]
    },
    {
      "cell_type": "code",
      "source": [
        "# renaming columns\n",
        "col_map={\n",
        "    'Time': 'time',\n",
        "    'Day_of_week': 'day_of_week',\n",
        "    'Age_band_of_driver': 'driver_age',\n",
        "    'Sex_of_driver': 'driver_sex',\n",
        "    'Educational_level': 'educational_level',\n",
        "    'Vehicle_driver_relation': 'vehicle_driver_relation',\n",
        "    'Driving_experience': 'driving_experience',\n",
        "    'Type_of_vehicle': 'vehicle_type',\n",
        "    'Owner_of_vehicle': 'vehicle_owner',\n",
        "    'Service_year_of_vehicle': 'service_year',\n",
        "    'Defect_of_vehicle': 'vehicle_defect',\n",
        "    'Area_accident_occured': 'accident_area',\n",
        "    'Lanes_or_Medians': 'lanes',\n",
        "    'Road_allignment': 'road_allignment',\n",
        "    'Types_of_Junction': 'junction_type',\n",
        "    'Road_surface_type': 'surface_type',\n",
        "    'Road_surface_conditions': 'road_surface_conditions',\n",
        "    'Light_conditions': 'light_condition',\n",
        "    'Weather_conditions': 'weather_condition',\n",
        "    'Type_of_collision': 'collision_type',\n",
        "    'Number_of_vehicles_involved': 'vehicles_involved',\n",
        "    'Number_of_casualties': 'casualties',\n",
        "    'Vehicle_movement': 'vehicle_movement',\n",
        "    'Casualty_class': 'casualty_class',\n",
        "    'Sex_of_casualty': 'casualty_sex' , \n",
        "    'Age_band_of_casualty': 'casualty_age', \n",
        "    'Casualty_severity': 'casualty_severity',\n",
        "    'Work_of_casuality': 'casualty_work', \n",
        "    'Fitness_of_casuality': 'casualty_fitness',\n",
        "    'Pedestrian_movement': 'pedestrian_movement',\n",
        "    'Cause_of_accident': 'accident_cause',\n",
        "    'Accident_severity': 'accident_severity'\n",
        "}\n",
        "df.rename(columns=col_map, inplace=True)"
      ],
      "metadata": {
        "id": "sWmeOUBKf6oS"
      },
      "execution_count": 10,
      "outputs": []
    },
    {
      "cell_type": "code",
      "source": [
        "# Checking for presecne of null values specifically in O/P as well as in the I/P features\n",
        "\n",
        "df.isnull().sum()"
      ],
      "metadata": {
        "colab": {
          "base_uri": "https://localhost:8080/"
        },
        "id": "AoZdDlTPfZYN",
        "outputId": "c16aeef2-2941-4ee7-8795-fc973e28b879"
      },
      "execution_count": 11,
      "outputs": [
        {
          "output_type": "execute_result",
          "data": {
            "text/plain": [
              "time                          0\n",
              "day_of_week                   0\n",
              "driver_age                    0\n",
              "driver_sex                    0\n",
              "educational_level           741\n",
              "vehicle_driver_relation     579\n",
              "driving_experience          829\n",
              "vehicle_type                950\n",
              "vehicle_owner               482\n",
              "service_year               3928\n",
              "vehicle_defect             4427\n",
              "accident_area               239\n",
              "lanes                       385\n",
              "road_allignment             142\n",
              "junction_type               887\n",
              "surface_type                172\n",
              "road_surface_conditions       0\n",
              "light_condition               0\n",
              "weather_condition             0\n",
              "collision_type              155\n",
              "vehicles_involved             0\n",
              "casualties                    0\n",
              "vehicle_movement            308\n",
              "casualty_class                0\n",
              "casualty_sex                  0\n",
              "casualty_age                  0\n",
              "casualty_severity             0\n",
              "casualty_work              3198\n",
              "casualty_fitness           2635\n",
              "pedestrian_movement           0\n",
              "accident_cause                0\n",
              "accident_severity             0\n",
              "dtype: int64"
            ]
          },
          "metadata": {},
          "execution_count": 11
        }
      ]
    },
    {
      "cell_type": "code",
      "source": [
        "#converting time to datetime\n",
        "df['time'] = pd.to_datetime(df['time'])\n",
        "\n",
        "# date (day-month-year) time\n",
        "df[\"time\"].dt.hour"
      ],
      "metadata": {
        "colab": {
          "base_uri": "https://localhost:8080/"
        },
        "id": "kjXVGWgQflLF",
        "outputId": "9b2ec9ff-5aa6-43e2-f70e-c4ab841cb288"
      },
      "execution_count": 14,
      "outputs": [
        {
          "output_type": "execute_result",
          "data": {
            "text/plain": [
              "0        17\n",
              "1        17\n",
              "2        17\n",
              "3         1\n",
              "4         1\n",
              "         ..\n",
              "12311    16\n",
              "12312    18\n",
              "12313    13\n",
              "12314    13\n",
              "12315    13\n",
              "Name: time, Length: 12316, dtype: int64"
            ]
          },
          "metadata": {},
          "execution_count": 14
        }
      ]
    },
    {
      "cell_type": "code",
      "source": [
        "df.describe(include=['O']).T"
      ],
      "metadata": {
        "colab": {
          "base_uri": "https://localhost:8080/",
          "height": 958
        },
        "id": "1t0-pA7tgv0r",
        "outputId": "89ad6f4e-5109-4dbd-ca18-0bd11a234e28"
      },
      "execution_count": 15,
      "outputs": [
        {
          "output_type": "execute_result",
          "data": {
            "text/plain": [
              "                         count unique  \\\n",
              "day_of_week              12316      7   \n",
              "driver_age               12316      5   \n",
              "driver_sex               12316      3   \n",
              "educational_level        11575      7   \n",
              "vehicle_driver_relation  11737      4   \n",
              "driving_experience       11487      7   \n",
              "vehicle_type             11366     17   \n",
              "vehicle_owner            11834      4   \n",
              "service_year              8388      6   \n",
              "vehicle_defect            7889      3   \n",
              "accident_area            12077     14   \n",
              "lanes                    11931      7   \n",
              "road_allignment          12174      9   \n",
              "junction_type            11429      8   \n",
              "surface_type             12144      5   \n",
              "road_surface_conditions  12316      4   \n",
              "light_condition          12316      4   \n",
              "weather_condition        12316      9   \n",
              "collision_type           12161     10   \n",
              "vehicle_movement         12008     13   \n",
              "casualty_class           12316      4   \n",
              "casualty_sex             12316      3   \n",
              "casualty_age             12316      6   \n",
              "casualty_severity        12316      4   \n",
              "casualty_work             9118      7   \n",
              "casualty_fitness          9681      5   \n",
              "pedestrian_movement      12316      9   \n",
              "accident_cause           12316     20   \n",
              "accident_severity        12316      3   \n",
              "\n",
              "                                                                      top  \\\n",
              "day_of_week                                                        Friday   \n",
              "driver_age                                                          18-30   \n",
              "driver_sex                                                           Male   \n",
              "educational_level                                      Junior high school   \n",
              "vehicle_driver_relation                                          Employee   \n",
              "driving_experience                                                 5-10yr   \n",
              "vehicle_type                                                   Automobile   \n",
              "vehicle_owner                                                       Owner   \n",
              "service_year                                                      Unknown   \n",
              "vehicle_defect                                                  No defect   \n",
              "accident_area                                                       Other   \n",
              "lanes                    Two-way (divided with broken lines road marking)   \n",
              "road_allignment                            Tangent road with flat terrain   \n",
              "junction_type                                                     Y Shape   \n",
              "surface_type                                                Asphalt roads   \n",
              "road_surface_conditions                                               Dry   \n",
              "light_condition                                                  Daylight   \n",
              "weather_condition                                                  Normal   \n",
              "collision_type                             Vehicle with vehicle collision   \n",
              "vehicle_movement                                           Going straight   \n",
              "casualty_class                                            Driver or rider   \n",
              "casualty_sex                                                         Male   \n",
              "casualty_age                                                           na   \n",
              "casualty_severity                                                       3   \n",
              "casualty_work                                                      Driver   \n",
              "casualty_fitness                                                   Normal   \n",
              "pedestrian_movement                                      Not a Pedestrian   \n",
              "accident_cause                                              No distancing   \n",
              "accident_severity                                           Slight Injury   \n",
              "\n",
              "                          freq  \n",
              "day_of_week               2041  \n",
              "driver_age                4271  \n",
              "driver_sex               11437  \n",
              "educational_level         7619  \n",
              "vehicle_driver_relation   9627  \n",
              "driving_experience        3363  \n",
              "vehicle_type              3205  \n",
              "vehicle_owner            10459  \n",
              "service_year              2883  \n",
              "vehicle_defect            7777  \n",
              "accident_area             3819  \n",
              "lanes                     4411  \n",
              "road_allignment          10459  \n",
              "junction_type             4543  \n",
              "surface_type             11296  \n",
              "road_surface_conditions   9340  \n",
              "light_condition           8798  \n",
              "weather_condition        10063  \n",
              "collision_type            8774  \n",
              "vehicle_movement          8158  \n",
              "casualty_class            4944  \n",
              "casualty_sex              5253  \n",
              "casualty_age              4443  \n",
              "casualty_severity         7076  \n",
              "casualty_work             5903  \n",
              "casualty_fitness          9608  \n",
              "pedestrian_movement      11390  \n",
              "accident_cause            2263  \n",
              "accident_severity        10415  "
            ],
            "text/html": [
              "\n",
              "  <div id=\"df-9038d8eb-9fef-488e-9276-f6548cabc05b\">\n",
              "    <div class=\"colab-df-container\">\n",
              "      <div>\n",
              "<style scoped>\n",
              "    .dataframe tbody tr th:only-of-type {\n",
              "        vertical-align: middle;\n",
              "    }\n",
              "\n",
              "    .dataframe tbody tr th {\n",
              "        vertical-align: top;\n",
              "    }\n",
              "\n",
              "    .dataframe thead th {\n",
              "        text-align: right;\n",
              "    }\n",
              "</style>\n",
              "<table border=\"1\" class=\"dataframe\">\n",
              "  <thead>\n",
              "    <tr style=\"text-align: right;\">\n",
              "      <th></th>\n",
              "      <th>count</th>\n",
              "      <th>unique</th>\n",
              "      <th>top</th>\n",
              "      <th>freq</th>\n",
              "    </tr>\n",
              "  </thead>\n",
              "  <tbody>\n",
              "    <tr>\n",
              "      <th>day_of_week</th>\n",
              "      <td>12316</td>\n",
              "      <td>7</td>\n",
              "      <td>Friday</td>\n",
              "      <td>2041</td>\n",
              "    </tr>\n",
              "    <tr>\n",
              "      <th>driver_age</th>\n",
              "      <td>12316</td>\n",
              "      <td>5</td>\n",
              "      <td>18-30</td>\n",
              "      <td>4271</td>\n",
              "    </tr>\n",
              "    <tr>\n",
              "      <th>driver_sex</th>\n",
              "      <td>12316</td>\n",
              "      <td>3</td>\n",
              "      <td>Male</td>\n",
              "      <td>11437</td>\n",
              "    </tr>\n",
              "    <tr>\n",
              "      <th>educational_level</th>\n",
              "      <td>11575</td>\n",
              "      <td>7</td>\n",
              "      <td>Junior high school</td>\n",
              "      <td>7619</td>\n",
              "    </tr>\n",
              "    <tr>\n",
              "      <th>vehicle_driver_relation</th>\n",
              "      <td>11737</td>\n",
              "      <td>4</td>\n",
              "      <td>Employee</td>\n",
              "      <td>9627</td>\n",
              "    </tr>\n",
              "    <tr>\n",
              "      <th>driving_experience</th>\n",
              "      <td>11487</td>\n",
              "      <td>7</td>\n",
              "      <td>5-10yr</td>\n",
              "      <td>3363</td>\n",
              "    </tr>\n",
              "    <tr>\n",
              "      <th>vehicle_type</th>\n",
              "      <td>11366</td>\n",
              "      <td>17</td>\n",
              "      <td>Automobile</td>\n",
              "      <td>3205</td>\n",
              "    </tr>\n",
              "    <tr>\n",
              "      <th>vehicle_owner</th>\n",
              "      <td>11834</td>\n",
              "      <td>4</td>\n",
              "      <td>Owner</td>\n",
              "      <td>10459</td>\n",
              "    </tr>\n",
              "    <tr>\n",
              "      <th>service_year</th>\n",
              "      <td>8388</td>\n",
              "      <td>6</td>\n",
              "      <td>Unknown</td>\n",
              "      <td>2883</td>\n",
              "    </tr>\n",
              "    <tr>\n",
              "      <th>vehicle_defect</th>\n",
              "      <td>7889</td>\n",
              "      <td>3</td>\n",
              "      <td>No defect</td>\n",
              "      <td>7777</td>\n",
              "    </tr>\n",
              "    <tr>\n",
              "      <th>accident_area</th>\n",
              "      <td>12077</td>\n",
              "      <td>14</td>\n",
              "      <td>Other</td>\n",
              "      <td>3819</td>\n",
              "    </tr>\n",
              "    <tr>\n",
              "      <th>lanes</th>\n",
              "      <td>11931</td>\n",
              "      <td>7</td>\n",
              "      <td>Two-way (divided with broken lines road marking)</td>\n",
              "      <td>4411</td>\n",
              "    </tr>\n",
              "    <tr>\n",
              "      <th>road_allignment</th>\n",
              "      <td>12174</td>\n",
              "      <td>9</td>\n",
              "      <td>Tangent road with flat terrain</td>\n",
              "      <td>10459</td>\n",
              "    </tr>\n",
              "    <tr>\n",
              "      <th>junction_type</th>\n",
              "      <td>11429</td>\n",
              "      <td>8</td>\n",
              "      <td>Y Shape</td>\n",
              "      <td>4543</td>\n",
              "    </tr>\n",
              "    <tr>\n",
              "      <th>surface_type</th>\n",
              "      <td>12144</td>\n",
              "      <td>5</td>\n",
              "      <td>Asphalt roads</td>\n",
              "      <td>11296</td>\n",
              "    </tr>\n",
              "    <tr>\n",
              "      <th>road_surface_conditions</th>\n",
              "      <td>12316</td>\n",
              "      <td>4</td>\n",
              "      <td>Dry</td>\n",
              "      <td>9340</td>\n",
              "    </tr>\n",
              "    <tr>\n",
              "      <th>light_condition</th>\n",
              "      <td>12316</td>\n",
              "      <td>4</td>\n",
              "      <td>Daylight</td>\n",
              "      <td>8798</td>\n",
              "    </tr>\n",
              "    <tr>\n",
              "      <th>weather_condition</th>\n",
              "      <td>12316</td>\n",
              "      <td>9</td>\n",
              "      <td>Normal</td>\n",
              "      <td>10063</td>\n",
              "    </tr>\n",
              "    <tr>\n",
              "      <th>collision_type</th>\n",
              "      <td>12161</td>\n",
              "      <td>10</td>\n",
              "      <td>Vehicle with vehicle collision</td>\n",
              "      <td>8774</td>\n",
              "    </tr>\n",
              "    <tr>\n",
              "      <th>vehicle_movement</th>\n",
              "      <td>12008</td>\n",
              "      <td>13</td>\n",
              "      <td>Going straight</td>\n",
              "      <td>8158</td>\n",
              "    </tr>\n",
              "    <tr>\n",
              "      <th>casualty_class</th>\n",
              "      <td>12316</td>\n",
              "      <td>4</td>\n",
              "      <td>Driver or rider</td>\n",
              "      <td>4944</td>\n",
              "    </tr>\n",
              "    <tr>\n",
              "      <th>casualty_sex</th>\n",
              "      <td>12316</td>\n",
              "      <td>3</td>\n",
              "      <td>Male</td>\n",
              "      <td>5253</td>\n",
              "    </tr>\n",
              "    <tr>\n",
              "      <th>casualty_age</th>\n",
              "      <td>12316</td>\n",
              "      <td>6</td>\n",
              "      <td>na</td>\n",
              "      <td>4443</td>\n",
              "    </tr>\n",
              "    <tr>\n",
              "      <th>casualty_severity</th>\n",
              "      <td>12316</td>\n",
              "      <td>4</td>\n",
              "      <td>3</td>\n",
              "      <td>7076</td>\n",
              "    </tr>\n",
              "    <tr>\n",
              "      <th>casualty_work</th>\n",
              "      <td>9118</td>\n",
              "      <td>7</td>\n",
              "      <td>Driver</td>\n",
              "      <td>5903</td>\n",
              "    </tr>\n",
              "    <tr>\n",
              "      <th>casualty_fitness</th>\n",
              "      <td>9681</td>\n",
              "      <td>5</td>\n",
              "      <td>Normal</td>\n",
              "      <td>9608</td>\n",
              "    </tr>\n",
              "    <tr>\n",
              "      <th>pedestrian_movement</th>\n",
              "      <td>12316</td>\n",
              "      <td>9</td>\n",
              "      <td>Not a Pedestrian</td>\n",
              "      <td>11390</td>\n",
              "    </tr>\n",
              "    <tr>\n",
              "      <th>accident_cause</th>\n",
              "      <td>12316</td>\n",
              "      <td>20</td>\n",
              "      <td>No distancing</td>\n",
              "      <td>2263</td>\n",
              "    </tr>\n",
              "    <tr>\n",
              "      <th>accident_severity</th>\n",
              "      <td>12316</td>\n",
              "      <td>3</td>\n",
              "      <td>Slight Injury</td>\n",
              "      <td>10415</td>\n",
              "    </tr>\n",
              "  </tbody>\n",
              "</table>\n",
              "</div>\n",
              "      <button class=\"colab-df-convert\" onclick=\"convertToInteractive('df-9038d8eb-9fef-488e-9276-f6548cabc05b')\"\n",
              "              title=\"Convert this dataframe to an interactive table.\"\n",
              "              style=\"display:none;\">\n",
              "        \n",
              "  <svg xmlns=\"http://www.w3.org/2000/svg\" height=\"24px\"viewBox=\"0 0 24 24\"\n",
              "       width=\"24px\">\n",
              "    <path d=\"M0 0h24v24H0V0z\" fill=\"none\"/>\n",
              "    <path d=\"M18.56 5.44l.94 2.06.94-2.06 2.06-.94-2.06-.94-.94-2.06-.94 2.06-2.06.94zm-11 1L8.5 8.5l.94-2.06 2.06-.94-2.06-.94L8.5 2.5l-.94 2.06-2.06.94zm10 10l.94 2.06.94-2.06 2.06-.94-2.06-.94-.94-2.06-.94 2.06-2.06.94z\"/><path d=\"M17.41 7.96l-1.37-1.37c-.4-.4-.92-.59-1.43-.59-.52 0-1.04.2-1.43.59L10.3 9.45l-7.72 7.72c-.78.78-.78 2.05 0 2.83L4 21.41c.39.39.9.59 1.41.59.51 0 1.02-.2 1.41-.59l7.78-7.78 2.81-2.81c.8-.78.8-2.07 0-2.86zM5.41 20L4 18.59l7.72-7.72 1.47 1.35L5.41 20z\"/>\n",
              "  </svg>\n",
              "      </button>\n",
              "      \n",
              "  <style>\n",
              "    .colab-df-container {\n",
              "      display:flex;\n",
              "      flex-wrap:wrap;\n",
              "      gap: 12px;\n",
              "    }\n",
              "\n",
              "    .colab-df-convert {\n",
              "      background-color: #E8F0FE;\n",
              "      border: none;\n",
              "      border-radius: 50%;\n",
              "      cursor: pointer;\n",
              "      display: none;\n",
              "      fill: #1967D2;\n",
              "      height: 32px;\n",
              "      padding: 0 0 0 0;\n",
              "      width: 32px;\n",
              "    }\n",
              "\n",
              "    .colab-df-convert:hover {\n",
              "      background-color: #E2EBFA;\n",
              "      box-shadow: 0px 1px 2px rgba(60, 64, 67, 0.3), 0px 1px 3px 1px rgba(60, 64, 67, 0.15);\n",
              "      fill: #174EA6;\n",
              "    }\n",
              "\n",
              "    [theme=dark] .colab-df-convert {\n",
              "      background-color: #3B4455;\n",
              "      fill: #D2E3FC;\n",
              "    }\n",
              "\n",
              "    [theme=dark] .colab-df-convert:hover {\n",
              "      background-color: #434B5C;\n",
              "      box-shadow: 0px 1px 3px 1px rgba(0, 0, 0, 0.15);\n",
              "      filter: drop-shadow(0px 1px 2px rgba(0, 0, 0, 0.3));\n",
              "      fill: #FFFFFF;\n",
              "    }\n",
              "  </style>\n",
              "\n",
              "      <script>\n",
              "        const buttonEl =\n",
              "          document.querySelector('#df-9038d8eb-9fef-488e-9276-f6548cabc05b button.colab-df-convert');\n",
              "        buttonEl.style.display =\n",
              "          google.colab.kernel.accessAllowed ? 'block' : 'none';\n",
              "\n",
              "        async function convertToInteractive(key) {\n",
              "          const element = document.querySelector('#df-9038d8eb-9fef-488e-9276-f6548cabc05b');\n",
              "          const dataTable =\n",
              "            await google.colab.kernel.invokeFunction('convertToInteractive',\n",
              "                                                     [key], {});\n",
              "          if (!dataTable) return;\n",
              "\n",
              "          const docLinkHtml = 'Like what you see? Visit the ' +\n",
              "            '<a target=\"_blank\" href=https://colab.research.google.com/notebooks/data_table.ipynb>data table notebook</a>'\n",
              "            + ' to learn more about interactive tables.';\n",
              "          element.innerHTML = '';\n",
              "          dataTable['output_type'] = 'display_data';\n",
              "          await google.colab.output.renderOutput(dataTable, element);\n",
              "          const docLink = document.createElement('div');\n",
              "          docLink.innerHTML = docLinkHtml;\n",
              "          element.appendChild(docLink);\n",
              "        }\n",
              "      </script>\n",
              "    </div>\n",
              "  </div>\n",
              "  "
            ]
          },
          "metadata": {},
          "execution_count": 15
        }
      ]
    },
    {
      "cell_type": "code",
      "source": [
        "df.describe()"
      ],
      "metadata": {
        "colab": {
          "base_uri": "https://localhost:8080/",
          "height": 300
        },
        "id": "FngOeP14hWmx",
        "outputId": "3114f3eb-b6e1-4546-95e7-fd32c629ef64"
      },
      "execution_count": 16,
      "outputs": [
        {
          "output_type": "execute_result",
          "data": {
            "text/plain": [
              "       vehicles_involved    casualties\n",
              "count       12316.000000  12316.000000\n",
              "mean            2.040679      1.548149\n",
              "std             0.688790      1.007179\n",
              "min             1.000000      1.000000\n",
              "25%             2.000000      1.000000\n",
              "50%             2.000000      1.000000\n",
              "75%             2.000000      2.000000\n",
              "max             7.000000      8.000000"
            ],
            "text/html": [
              "\n",
              "  <div id=\"df-98b94721-ed17-4ab1-82eb-0a50850baf42\">\n",
              "    <div class=\"colab-df-container\">\n",
              "      <div>\n",
              "<style scoped>\n",
              "    .dataframe tbody tr th:only-of-type {\n",
              "        vertical-align: middle;\n",
              "    }\n",
              "\n",
              "    .dataframe tbody tr th {\n",
              "        vertical-align: top;\n",
              "    }\n",
              "\n",
              "    .dataframe thead th {\n",
              "        text-align: right;\n",
              "    }\n",
              "</style>\n",
              "<table border=\"1\" class=\"dataframe\">\n",
              "  <thead>\n",
              "    <tr style=\"text-align: right;\">\n",
              "      <th></th>\n",
              "      <th>vehicles_involved</th>\n",
              "      <th>casualties</th>\n",
              "    </tr>\n",
              "  </thead>\n",
              "  <tbody>\n",
              "    <tr>\n",
              "      <th>count</th>\n",
              "      <td>12316.000000</td>\n",
              "      <td>12316.000000</td>\n",
              "    </tr>\n",
              "    <tr>\n",
              "      <th>mean</th>\n",
              "      <td>2.040679</td>\n",
              "      <td>1.548149</td>\n",
              "    </tr>\n",
              "    <tr>\n",
              "      <th>std</th>\n",
              "      <td>0.688790</td>\n",
              "      <td>1.007179</td>\n",
              "    </tr>\n",
              "    <tr>\n",
              "      <th>min</th>\n",
              "      <td>1.000000</td>\n",
              "      <td>1.000000</td>\n",
              "    </tr>\n",
              "    <tr>\n",
              "      <th>25%</th>\n",
              "      <td>2.000000</td>\n",
              "      <td>1.000000</td>\n",
              "    </tr>\n",
              "    <tr>\n",
              "      <th>50%</th>\n",
              "      <td>2.000000</td>\n",
              "      <td>1.000000</td>\n",
              "    </tr>\n",
              "    <tr>\n",
              "      <th>75%</th>\n",
              "      <td>2.000000</td>\n",
              "      <td>2.000000</td>\n",
              "    </tr>\n",
              "    <tr>\n",
              "      <th>max</th>\n",
              "      <td>7.000000</td>\n",
              "      <td>8.000000</td>\n",
              "    </tr>\n",
              "  </tbody>\n",
              "</table>\n",
              "</div>\n",
              "      <button class=\"colab-df-convert\" onclick=\"convertToInteractive('df-98b94721-ed17-4ab1-82eb-0a50850baf42')\"\n",
              "              title=\"Convert this dataframe to an interactive table.\"\n",
              "              style=\"display:none;\">\n",
              "        \n",
              "  <svg xmlns=\"http://www.w3.org/2000/svg\" height=\"24px\"viewBox=\"0 0 24 24\"\n",
              "       width=\"24px\">\n",
              "    <path d=\"M0 0h24v24H0V0z\" fill=\"none\"/>\n",
              "    <path d=\"M18.56 5.44l.94 2.06.94-2.06 2.06-.94-2.06-.94-.94-2.06-.94 2.06-2.06.94zm-11 1L8.5 8.5l.94-2.06 2.06-.94-2.06-.94L8.5 2.5l-.94 2.06-2.06.94zm10 10l.94 2.06.94-2.06 2.06-.94-2.06-.94-.94-2.06-.94 2.06-2.06.94z\"/><path d=\"M17.41 7.96l-1.37-1.37c-.4-.4-.92-.59-1.43-.59-.52 0-1.04.2-1.43.59L10.3 9.45l-7.72 7.72c-.78.78-.78 2.05 0 2.83L4 21.41c.39.39.9.59 1.41.59.51 0 1.02-.2 1.41-.59l7.78-7.78 2.81-2.81c.8-.78.8-2.07 0-2.86zM5.41 20L4 18.59l7.72-7.72 1.47 1.35L5.41 20z\"/>\n",
              "  </svg>\n",
              "      </button>\n",
              "      \n",
              "  <style>\n",
              "    .colab-df-container {\n",
              "      display:flex;\n",
              "      flex-wrap:wrap;\n",
              "      gap: 12px;\n",
              "    }\n",
              "\n",
              "    .colab-df-convert {\n",
              "      background-color: #E8F0FE;\n",
              "      border: none;\n",
              "      border-radius: 50%;\n",
              "      cursor: pointer;\n",
              "      display: none;\n",
              "      fill: #1967D2;\n",
              "      height: 32px;\n",
              "      padding: 0 0 0 0;\n",
              "      width: 32px;\n",
              "    }\n",
              "\n",
              "    .colab-df-convert:hover {\n",
              "      background-color: #E2EBFA;\n",
              "      box-shadow: 0px 1px 2px rgba(60, 64, 67, 0.3), 0px 1px 3px 1px rgba(60, 64, 67, 0.15);\n",
              "      fill: #174EA6;\n",
              "    }\n",
              "\n",
              "    [theme=dark] .colab-df-convert {\n",
              "      background-color: #3B4455;\n",
              "      fill: #D2E3FC;\n",
              "    }\n",
              "\n",
              "    [theme=dark] .colab-df-convert:hover {\n",
              "      background-color: #434B5C;\n",
              "      box-shadow: 0px 1px 3px 1px rgba(0, 0, 0, 0.15);\n",
              "      filter: drop-shadow(0px 1px 2px rgba(0, 0, 0, 0.3));\n",
              "      fill: #FFFFFF;\n",
              "    }\n",
              "  </style>\n",
              "\n",
              "      <script>\n",
              "        const buttonEl =\n",
              "          document.querySelector('#df-98b94721-ed17-4ab1-82eb-0a50850baf42 button.colab-df-convert');\n",
              "        buttonEl.style.display =\n",
              "          google.colab.kernel.accessAllowed ? 'block' : 'none';\n",
              "\n",
              "        async function convertToInteractive(key) {\n",
              "          const element = document.querySelector('#df-98b94721-ed17-4ab1-82eb-0a50850baf42');\n",
              "          const dataTable =\n",
              "            await google.colab.kernel.invokeFunction('convertToInteractive',\n",
              "                                                     [key], {});\n",
              "          if (!dataTable) return;\n",
              "\n",
              "          const docLinkHtml = 'Like what you see? Visit the ' +\n",
              "            '<a target=\"_blank\" href=https://colab.research.google.com/notebooks/data_table.ipynb>data table notebook</a>'\n",
              "            + ' to learn more about interactive tables.';\n",
              "          element.innerHTML = '';\n",
              "          dataTable['output_type'] = 'display_data';\n",
              "          await google.colab.output.renderOutput(dataTable, element);\n",
              "          const docLink = document.createElement('div');\n",
              "          docLink.innerHTML = docLinkHtml;\n",
              "          element.appendChild(docLink);\n",
              "        }\n",
              "      </script>\n",
              "    </div>\n",
              "  </div>\n",
              "  "
            ]
          },
          "metadata": {},
          "execution_count": 16
        }
      ]
    },
    {
      "cell_type": "code",
      "source": [
        "# print duplicates\n",
        "print(\"Number of duplicates: \", df.duplicated().sum())\n",
        "print(\"Unique values per column:\")\n",
        "df.nunique()"
      ],
      "metadata": {
        "colab": {
          "base_uri": "https://localhost:8080/"
        },
        "id": "oJIkrAIkjdBv",
        "outputId": "ad3796b9-e1dc-4990-b7ef-8c78275b5137"
      },
      "execution_count": 17,
      "outputs": [
        {
          "output_type": "stream",
          "name": "stdout",
          "text": [
            "Number of duplicates:  0\n",
            "Unique values per column:\n"
          ]
        },
        {
          "output_type": "execute_result",
          "data": {
            "text/plain": [
              "time                       1074\n",
              "day_of_week                   7\n",
              "driver_age                    5\n",
              "driver_sex                    3\n",
              "educational_level             7\n",
              "vehicle_driver_relation       4\n",
              "driving_experience            7\n",
              "vehicle_type                 17\n",
              "vehicle_owner                 4\n",
              "service_year                  6\n",
              "vehicle_defect                3\n",
              "accident_area                14\n",
              "lanes                         7\n",
              "road_allignment               9\n",
              "junction_type                 8\n",
              "surface_type                  5\n",
              "road_surface_conditions       4\n",
              "light_condition               4\n",
              "weather_condition             9\n",
              "collision_type               10\n",
              "vehicles_involved             6\n",
              "casualties                    8\n",
              "vehicle_movement             13\n",
              "casualty_class                4\n",
              "casualty_sex                  3\n",
              "casualty_age                  6\n",
              "casualty_severity             4\n",
              "casualty_work                 7\n",
              "casualty_fitness              5\n",
              "pedestrian_movement           9\n",
              "accident_cause               20\n",
              "accident_severity             3\n",
              "dtype: int64"
            ]
          },
          "metadata": {},
          "execution_count": 17
        }
      ]
    },
    {
      "cell_type": "markdown",
      "source": [
        "# EDA\n",
        "\n",
        "### Numerical data analysis\n",
        "\n",
        "### Categorical data analysis"
      ],
      "metadata": {
        "id": "oltzrEx_7TPv"
      }
    },
    {
      "cell_type": "code",
      "source": [
        "# Numerical data analysis \n",
        "df.hist(layout=(1,6), figsize=(30,5))\n",
        "plt.show()"
      ],
      "metadata": {
        "colab": {
          "base_uri": "https://localhost:8080/",
          "height": 336
        },
        "id": "hrmFcVncj5GX",
        "outputId": "c9cc42fd-bb8b-476c-c3b9-e9260ef92832"
      },
      "execution_count": 20,
      "outputs": [
        {
          "output_type": "display_data",
          "data": {
            "text/plain": [
              "<Figure size 2160x360 with 6 Axes>"
            ],
            "image/png": "[encoded data removed]"
          },
          "metadata": {
            "needs_background": "light"
          }
        }
      ]
    },
    {
      "cell_type": "code",
      "source": [
        "df['casualties'].value_counts()\n"
      ],
      "metadata": {
        "colab": {
          "base_uri": "https://localhost:8080/"
        },
        "id": "lRLRodHo7tMp",
        "outputId": "bc9f45d3-1713-48a3-955f-c61ca7fd9409"
      },
      "execution_count": 23,
      "outputs": [
        {
          "output_type": "execute_result",
          "data": {
            "text/plain": [
              "1    8397\n",
              "2    2290\n",
              "3     909\n",
              "4     394\n",
              "5     207\n",
              "6      89\n",
              "7      22\n",
              "8       8\n",
              "Name: casualties, dtype: int64"
            ]
          },
          "metadata": {},
          "execution_count": 23
        }
      ]
    },
    {
      "cell_type": "code",
      "source": [
        "plt.figure(figsize=(10,7))\n",
        "sns.boxplot(data=df, y='vehicles_involved', x='casualties')\n",
        "plt.show()\n"
      ],
      "metadata": {
        "colab": {
          "base_uri": "https://localhost:8080/",
          "height": 442
        },
        "id": "oReooF8170Zh",
        "outputId": "eeaae6fe-0c0e-46f9-e589-b4a8a0d60465"
      },
      "execution_count": 24,
      "outputs": [
        {
          "output_type": "display_data",
          "data": {
            "text/plain": [
              "<Figure size 720x504 with 1 Axes>"
            ],
            "image/png": "[encoded data removed]"
          },
          "metadata": {
            "needs_background": "light"
          }
        }
      ]
    },
    {
      "cell_type": "code",
      "source": [
        "sns.boxplot(data=df, y='casualties')\n",
        "plt.show()"
      ],
      "metadata": {
        "colab": {
          "base_uri": "https://localhost:8080/",
          "height": 252
        },
        "id": "ky22YmNN8LOJ",
        "outputId": "e7f013c6-8d2a-44d9-fde5-97d097d4ff6f"
      },
      "execution_count": 25,
      "outputs": [
        {
          "output_type": "display_data",
          "data": {
            "text/plain": [
              "<Figure size 432x288 with 1 Axes>"
            ],
            "image/png": "[encoded data removed]"
          },
          "metadata": {
            "needs_background": "light"
          }
        }
      ]
    },
    {
      "cell_type": "code",
      "source": [
        "sns.boxplot(data=df, y='vehicles_involved')\n",
        "plt.show()"
      ],
      "metadata": {
        "colab": {
          "base_uri": "https://localhost:8080/",
          "height": 252
        },
        "id": "jQSd-bhQ8Oig",
        "outputId": "d079429d-d807-4f3b-8188-6c12254257d0"
      },
      "execution_count": 26,
      "outputs": [
        {
          "output_type": "display_data",
          "data": {
            "text/plain": [
              "<Figure size 432x288 with 1 Axes>"
            ],
            "image/png": "[encoded data removed]"
          },
          "metadata": {
            "needs_background": "light"
          }
        }
      ]
    },
    {
      "cell_type": "code",
      "source": [
        "df['vehicles_involved']\n"
      ],
      "metadata": {
        "colab": {
          "base_uri": "https://localhost:8080/"
        },
        "id": "glueCfb-8ScU",
        "outputId": "cd431ab7-5dc1-4bcb-dec4-b62f0673d9b6"
      },
      "execution_count": 27,
      "outputs": [
        {
          "output_type": "execute_result",
          "data": {
            "text/plain": [
              "0        2\n",
              "1        2\n",
              "2        2\n",
              "3        2\n",
              "4        2\n",
              "        ..\n",
              "12311    2\n",
              "12312    2\n",
              "12313    1\n",
              "12314    2\n",
              "12315    2\n",
              "Name: vehicles_involved, Length: 12316, dtype: int64"
            ]
          },
          "metadata": {},
          "execution_count": 27
        }
      ]
    },
    {
      "cell_type": "code",
      "source": [
        "sns.scatterplot(x=df['vehicles_involved'], y=df['casualties'])\n",
        "plt.show()"
      ],
      "metadata": {
        "colab": {
          "base_uri": "https://localhost:8080/",
          "height": 280
        },
        "id": "v71pDNbF8VYq",
        "outputId": "34170653-b5d7-40c8-f30f-c808db957146"
      },
      "execution_count": 29,
      "outputs": [
        {
          "output_type": "display_data",
          "data": {
            "text/plain": [
              "<Figure size 432x288 with 1 Axes>"
            ],
            "image/png": "[encoded data removed]"
          },
          "metadata": {
            "needs_background": "light"
          }
        }
      ]
    },
    {
      "cell_type": "code",
      "source": [
        "sns.pairplot(df[['vehicles_involved','casualties']])\n",
        "plt.show()\n"
      ],
      "metadata": {
        "colab": {
          "base_uri": "https://localhost:8080/",
          "height": 374
        },
        "id": "yISN2J6u8bkP",
        "outputId": "8c660b0a-7651-4f2b-f817-f0c4af817f6d"
      },
      "execution_count": 30,
      "outputs": [
        {
          "output_type": "display_data",
          "data": {
            "text/plain": [
              "<Figure size 360x360 with 6 Axes>"
            ],
            "image/png": "[encoded data removed]"
          },
          "metadata": {
            "needs_background": "light"
          }
        }
      ]
    },
    {
      "cell_type": "code",
      "source": [
        "correlation_matrix = df.corr()\n",
        "sns.heatmap(correlation_matrix, annot=True)\n",
        "plt.show()"
      ],
      "metadata": {
        "colab": {
          "base_uri": "https://localhost:8080/",
          "height": 270
        },
        "id": "ao5rs57-8h31",
        "outputId": "46325fc3-bb57-4119-e7e8-ba8dc557018d"
      },
      "execution_count": 32,
      "outputs": [
        {
          "output_type": "display_data",
          "data": {
            "text/plain": [
              "<Figure size 432x288 with 2 Axes>"
            ],
            "image/png": "[encoded data removed]"
          },
          "metadata": {
            "needs_background": "light"
          }
        }
      ]
    },
    {
      "cell_type": "code",
      "source": [
        "# Categorical data analysis\n",
        "\n",
        "plt.figure(figsize=(10,7))\n",
        "plt.pie(x=df['accident_severity'].value_counts().values,\n",
        "        labels=df['accident_severity'].value_counts().index,\n",
        "        autopct='%2.2f%%')\n",
        "plt.show()\n"
      ],
      "metadata": {
        "colab": {
          "base_uri": "https://localhost:8080/",
          "height": 411
        },
        "id": "pRLyuxdu8nFS",
        "outputId": "dcdf1ad3-3ab3-474a-a829-1020a09fbec3"
      },
      "execution_count": 34,
      "outputs": [
        {
          "output_type": "display_data",
          "data": {
            "text/plain": [
              "<Figure size 720x504 with 1 Axes>"
            ],
            "image/png": "[encoded data removed]"
          },
          "metadata": {}
        }
      ]
    },
    {
      "cell_type": "code",
      "source": [
        "# creating a facet grid with columns as survived=0 and survived=1\n",
        "grid = sns.FacetGrid(data=df, col='accident_severity', height=4, aspect=1, sharey=False)\n",
        "# mapping bar plot and the data on to the grid\n",
        "grid.map(sns.countplot, 'vehicles_involved', palette=['yellow', 'orange', 'red'])\n",
        "plt.show()"
      ],
      "metadata": {
        "colab": {
          "base_uri": "https://localhost:8080/",
          "height": 297
        },
        "id": "FeXgAxex84nM",
        "outputId": "dd5b776f-8443-4a3b-8de0-82bf2377c993"
      },
      "execution_count": 37,
      "outputs": [
        {
          "output_type": "display_data",
          "data": {
            "text/plain": [
              "<Figure size 864x288 with 3 Axes>"
            ],
            "image/png": "[encoded data removed]"
          },
          "metadata": {
            "needs_background": "light"
          }
        }
      ]
    },
    {
      "cell_type": "markdown",
      "source": [
        "# Data Preprocessing "
      ],
      "metadata": {
        "id": "P4Kc5B1j_gIH"
      }
    },
    {
      "cell_type": "code",
      "source": [
        "# dropping columns that can cause imbalance while imputation\n",
        "lists = ['vehicle_driver_relation', 'casualty_work', 'casualty_fitness','day_of_week','casualty_severity','time','driver_sex','educational_level','vehicle_defect','vehicle_owner','service_year', 'surface_type','casualty_sex']\n",
        "df.drop(columns = lists, inplace=True)\n"
      ],
      "metadata": {
        "id": "soHm6ki_9HHQ"
      },
      "execution_count": 38,
      "outputs": []
    },
    {
      "cell_type": "code",
      "source": [
        "impute_cols = [x for x in df.isna().sum()[df.isna().sum() != 0].index.tolist()]\n",
        "for feat in impute_cols:  \n",
        "    mode = df[feat].mode()[0]\n",
        "    df[feat].fillna(mode, inplace=True)"
      ],
      "metadata": {
        "id": "h0QnZpjb_Ss5"
      },
      "execution_count": 39,
      "outputs": []
    },
    {
      "cell_type": "code",
      "source": [
        "df.isnull().sum()\n"
      ],
      "metadata": {
        "colab": {
          "base_uri": "https://localhost:8080/"
        },
        "id": "e3hwUFNn_tSb",
        "outputId": "1bbe9334-1378-40e0-d4e4-120ab3271450"
      },
      "execution_count": 40,
      "outputs": [
        {
          "output_type": "execute_result",
          "data": {
            "text/plain": [
              "driver_age                 0\n",
              "driving_experience         0\n",
              "vehicle_type               0\n",
              "accident_area              0\n",
              "lanes                      0\n",
              "road_allignment            0\n",
              "junction_type              0\n",
              "road_surface_conditions    0\n",
              "light_condition            0\n",
              "weather_condition          0\n",
              "collision_type             0\n",
              "vehicles_involved          0\n",
              "casualties                 0\n",
              "vehicle_movement           0\n",
              "casualty_class             0\n",
              "casualty_age               0\n",
              "pedestrian_movement        0\n",
              "accident_cause             0\n",
              "accident_severity          0\n",
              "dtype: int64"
            ]
          },
          "metadata": {},
          "execution_count": 40
        }
      ]
    },
    {
      "cell_type": "code",
      "source": [
        "target_count = df['accident_severity'].value_counts()\n",
        "print('Class 0:', target_count[0])\n",
        "print('Class 1:', target_count[1])\n",
        "print('Proportion:', round(target_count[0] / target_count[1], 2), ': 1')\n",
        "\n",
        "target_count.plot(kind='bar', title='Count (target)');"
      ],
      "metadata": {
        "colab": {
          "base_uri": "https://localhost:8080/",
          "height": 392
        },
        "id": "4xQgFZo1_t0Z",
        "outputId": "08f1074d-6e03-4eda-ef32-c79dababf770"
      },
      "execution_count": 41,
      "outputs": [
        {
          "output_type": "stream",
          "name": "stdout",
          "text": [
            "Class 0: 10415\n",
            "Class 1: 1743\n",
            "Proportion: 5.98 : 1\n"
          ]
        },
        {
          "output_type": "display_data",
          "data": {
            "text/plain": [
              "<Figure size 432x288 with 1 Axes>"
            ],
            "image/png": "[encoded data removed]"
          },
          "metadata": {
            "needs_background": "light"
          }
        }
      ]
    },
    {
      "cell_type": "code",
      "source": [
        "df.head()"
      ],
      "metadata": {
        "colab": {
          "base_uri": "https://localhost:8080/",
          "height": 443
        },
        "id": "ND7NG4KS_5RR",
        "outputId": "95a799b9-5dbe-404a-e9bf-80e73dd73b86"
      },
      "execution_count": 42,
      "outputs": [
        {
          "output_type": "execute_result",
          "data": {
            "text/plain": [
              "  driver_age driving_experience         vehicle_type         accident_area  \\\n",
              "0      18-30              1-2yr           Automobile     Residential areas   \n",
              "1      31-50         Above 10yr  Public (> 45 seats)          Office areas   \n",
              "2      18-30              1-2yr      Lorry (41?100Q)    Recreational areas   \n",
              "3      18-30             5-10yr  Public (> 45 seats)          Office areas   \n",
              "4      18-30              2-5yr           Automobile      Industrial areas   \n",
              "\n",
              "                                              lanes  \\\n",
              "0  Two-way (divided with broken lines road marking)   \n",
              "1                                 Undivided Two way   \n",
              "2                                             other   \n",
              "3                                             other   \n",
              "4                                             other   \n",
              "\n",
              "                                 road_allignment junction_type  \\\n",
              "0                 Tangent road with flat terrain   No junction   \n",
              "1                 Tangent road with flat terrain   No junction   \n",
              "2                 Tangent road with flat terrain   No junction   \n",
              "3  Tangent road with mild grade and flat terrain       Y Shape   \n",
              "4                 Tangent road with flat terrain       Y Shape   \n",
              "\n",
              "  road_surface_conditions        light_condition weather_condition  \\\n",
              "0                     Dry               Daylight            Normal   \n",
              "1                     Dry               Daylight            Normal   \n",
              "2                     Dry               Daylight            Normal   \n",
              "3                     Dry  Darkness - lights lit            Normal   \n",
              "4                     Dry  Darkness - lights lit            Normal   \n",
              "\n",
              "                            collision_type  vehicles_involved  casualties  \\\n",
              "0  Collision with roadside-parked vehicles                  2           2   \n",
              "1           Vehicle with vehicle collision                  2           2   \n",
              "2          Collision with roadside objects                  2           2   \n",
              "3           Vehicle with vehicle collision                  2           2   \n",
              "4           Vehicle with vehicle collision                  2           2   \n",
              "\n",
              "  vehicle_movement   casualty_class casualty_age pedestrian_movement  \\\n",
              "0   Going straight               na           na    Not a Pedestrian   \n",
              "1   Going straight               na           na    Not a Pedestrian   \n",
              "2   Going straight  Driver or rider        31-50    Not a Pedestrian   \n",
              "3   Going straight       Pedestrian        18-30    Not a Pedestrian   \n",
              "4   Going straight               na           na    Not a Pedestrian   \n",
              "\n",
              "               accident_cause accident_severity  \n",
              "0             Moving Backward     Slight Injury  \n",
              "1                  Overtaking     Slight Injury  \n",
              "2   Changing lane to the left    Serious Injury  \n",
              "3  Changing lane to the right     Slight Injury  \n",
              "4                  Overtaking     Slight Injury  "
            ],
            "text/html": [
              "\n",
              "  <div id=\"df-ab074291-53f8-440a-aad3-14e2840a70b5\">\n",
              "    <div class=\"colab-df-container\">\n",
              "      <div>\n",
              "<style scoped>\n",
              "    .dataframe tbody tr th:only-of-type {\n",
              "        vertical-align: middle;\n",
              "    }\n",
              "\n",
              "    .dataframe tbody tr th {\n",
              "        vertical-align: top;\n",
              "    }\n",
              "\n",
              "    .dataframe thead th {\n",
              "        text-align: right;\n",
              "    }\n",
              "</style>\n",
              "<table border=\"1\" class=\"dataframe\">\n",
              "  <thead>\n",
              "    <tr style=\"text-align: right;\">\n",
              "      <th></th>\n",
              "      <th>driver_age</th>\n",
              "      <th>driving_experience</th>\n",
              "      <th>vehicle_type</th>\n",
              "      <th>accident_area</th>\n",
              "      <th>lanes</th>\n",
              "      <th>road_allignment</th>\n",
              "      <th>junction_type</th>\n",
              "      <th>road_surface_conditions</th>\n",
              "      <th>light_condition</th>\n",
              "      <th>weather_condition</th>\n",
              "      <th>collision_type</th>\n",
              "      <th>vehicles_involved</th>\n",
              "      <th>casualties</th>\n",
              "      <th>vehicle_movement</th>\n",
              "      <th>casualty_class</th>\n",
              "      <th>casualty_age</th>\n",
              "      <th>pedestrian_movement</th>\n",
              "      <th>accident_cause</th>\n",
              "      <th>accident_severity</th>\n",
              "    </tr>\n",
              "  </thead>\n",
              "  <tbody>\n",
              "    <tr>\n",
              "      <th>0</th>\n",
              "      <td>18-30</td>\n",
              "      <td>1-2yr</td>\n",
              "      <td>Automobile</td>\n",
              "      <td>Residential areas</td>\n",
              "      <td>Two-way (divided with broken lines road marking)</td>\n",
              "      <td>Tangent road with flat terrain</td>\n",
              "      <td>No junction</td>\n",
              "      <td>Dry</td>\n",
              "      <td>Daylight</td>\n",
              "      <td>Normal</td>\n",
              "      <td>Collision with roadside-parked vehicles</td>\n",
              "      <td>2</td>\n",
              "      <td>2</td>\n",
              "      <td>Going straight</td>\n",
              "      <td>na</td>\n",
              "      <td>na</td>\n",
              "      <td>Not a Pedestrian</td>\n",
              "      <td>Moving Backward</td>\n",
              "      <td>Slight Injury</td>\n",
              "    </tr>\n",
              "    <tr>\n",
              "      <th>1</th>\n",
              "      <td>31-50</td>\n",
              "      <td>Above 10yr</td>\n",
              "      <td>Public (&gt; 45 seats)</td>\n",
              "      <td>Office areas</td>\n",
              "      <td>Undivided Two way</td>\n",
              "      <td>Tangent road with flat terrain</td>\n",
              "      <td>No junction</td>\n",
              "      <td>Dry</td>\n",
              "      <td>Daylight</td>\n",
              "      <td>Normal</td>\n",
              "      <td>Vehicle with vehicle collision</td>\n",
              "      <td>2</td>\n",
              "      <td>2</td>\n",
              "      <td>Going straight</td>\n",
              "      <td>na</td>\n",
              "      <td>na</td>\n",
              "      <td>Not a Pedestrian</td>\n",
              "      <td>Overtaking</td>\n",
              "      <td>Slight Injury</td>\n",
              "    </tr>\n",
              "    <tr>\n",
              "      <th>2</th>\n",
              "      <td>18-30</td>\n",
              "      <td>1-2yr</td>\n",
              "      <td>Lorry (41?100Q)</td>\n",
              "      <td>Recreational areas</td>\n",
              "      <td>other</td>\n",
              "      <td>Tangent road with flat terrain</td>\n",
              "      <td>No junction</td>\n",
              "      <td>Dry</td>\n",
              "      <td>Daylight</td>\n",
              "      <td>Normal</td>\n",
              "      <td>Collision with roadside objects</td>\n",
              "      <td>2</td>\n",
              "      <td>2</td>\n",
              "      <td>Going straight</td>\n",
              "      <td>Driver or rider</td>\n",
              "      <td>31-50</td>\n",
              "      <td>Not a Pedestrian</td>\n",
              "      <td>Changing lane to the left</td>\n",
              "      <td>Serious Injury</td>\n",
              "    </tr>\n",
              "    <tr>\n",
              "      <th>3</th>\n",
              "      <td>18-30</td>\n",
              "      <td>5-10yr</td>\n",
              "      <td>Public (&gt; 45 seats)</td>\n",
              "      <td>Office areas</td>\n",
              "      <td>other</td>\n",
              "      <td>Tangent road with mild grade and flat terrain</td>\n",
              "      <td>Y Shape</td>\n",
              "      <td>Dry</td>\n",
              "      <td>Darkness - lights lit</td>\n",
              "      <td>Normal</td>\n",
              "      <td>Vehicle with vehicle collision</td>\n",
              "      <td>2</td>\n",
              "      <td>2</td>\n",
              "      <td>Going straight</td>\n",
              "      <td>Pedestrian</td>\n",
              "      <td>18-30</td>\n",
              "      <td>Not a Pedestrian</td>\n",
              "      <td>Changing lane to the right</td>\n",
              "      <td>Slight Injury</td>\n",
              "    </tr>\n",
              "    <tr>\n",
              "      <th>4</th>\n",
              "      <td>18-30</td>\n",
              "      <td>2-5yr</td>\n",
              "      <td>Automobile</td>\n",
              "      <td>Industrial areas</td>\n",
              "      <td>other</td>\n",
              "      <td>Tangent road with flat terrain</td>\n",
              "      <td>Y Shape</td>\n",
              "      <td>Dry</td>\n",
              "      <td>Darkness - lights lit</td>\n",
              "      <td>Normal</td>\n",
              "      <td>Vehicle with vehicle collision</td>\n",
              "      <td>2</td>\n",
              "      <td>2</td>\n",
              "      <td>Going straight</td>\n",
              "      <td>na</td>\n",
              "      <td>na</td>\n",
              "      <td>Not a Pedestrian</td>\n",
              "      <td>Overtaking</td>\n",
              "      <td>Slight Injury</td>\n",
              "    </tr>\n",
              "  </tbody>\n",
              "</table>\n",
              "</div>\n",
              "      <button class=\"colab-df-convert\" onclick=\"convertToInteractive('df-ab074291-53f8-440a-aad3-14e2840a70b5')\"\n",
              "              title=\"Convert this dataframe to an interactive table.\"\n",
              "              style=\"display:none;\">\n",
              "        \n",
              "  <svg xmlns=\"http://www.w3.org/2000/svg\" height=\"24px\"viewBox=\"0 0 24 24\"\n",
              "       width=\"24px\">\n",
              "    <path d=\"M0 0h24v24H0V0z\" fill=\"none\"/>\n",
              "    <path d=\"M18.56 5.44l.94 2.06.94-2.06 2.06-.94-2.06-.94-.94-2.06-.94 2.06-2.06.94zm-11 1L8.5 8.5l.94-2.06 2.06-.94-2.06-.94L8.5 2.5l-.94 2.06-2.06.94zm10 10l.94 2.06.94-2.06 2.06-.94-2.06-.94-.94-2.06-.94 2.06-2.06.94z\"/><path d=\"M17.41 7.96l-1.37-1.37c-.4-.4-.92-.59-1.43-.59-.52 0-1.04.2-1.43.59L10.3 9.45l-7.72 7.72c-.78.78-.78 2.05 0 2.83L4 21.41c.39.39.9.59 1.41.59.51 0 1.02-.2 1.41-.59l7.78-7.78 2.81-2.81c.8-.78.8-2.07 0-2.86zM5.41 20L4 18.59l7.72-7.72 1.47 1.35L5.41 20z\"/>\n",
              "  </svg>\n",
              "      </button>\n",
              "      \n",
              "  <style>\n",
              "    .colab-df-container {\n",
              "      display:flex;\n",
              "      flex-wrap:wrap;\n",
              "      gap: 12px;\n",
              "    }\n",
              "\n",
              "    .colab-df-convert {\n",
              "      background-color: #E8F0FE;\n",
              "      border: none;\n",
              "      border-radius: 50%;\n",
              "      cursor: pointer;\n",
              "      display: none;\n",
              "      fill: #1967D2;\n",
              "      height: 32px;\n",
              "      padding: 0 0 0 0;\n",
              "      width: 32px;\n",
              "    }\n",
              "\n",
              "    .colab-df-convert:hover {\n",
              "      background-color: #E2EBFA;\n",
              "      box-shadow: 0px 1px 2px rgba(60, 64, 67, 0.3), 0px 1px 3px 1px rgba(60, 64, 67, 0.15);\n",
              "      fill: #174EA6;\n",
              "    }\n",
              "\n",
              "    [theme=dark] .colab-df-convert {\n",
              "      background-color: #3B4455;\n",
              "      fill: #D2E3FC;\n",
              "    }\n",
              "\n",
              "    [theme=dark] .colab-df-convert:hover {\n",
              "      background-color: #434B5C;\n",
              "      box-shadow: 0px 1px 3px 1px rgba(0, 0, 0, 0.15);\n",
              "      filter: drop-shadow(0px 1px 2px rgba(0, 0, 0, 0.3));\n",
              "      fill: #FFFFFF;\n",
              "    }\n",
              "  </style>\n",
              "\n",
              "      <script>\n",
              "        const buttonEl =\n",
              "          document.querySelector('#df-ab074291-53f8-440a-aad3-14e2840a70b5 button.colab-df-convert');\n",
              "        buttonEl.style.display =\n",
              "          google.colab.kernel.accessAllowed ? 'block' : 'none';\n",
              "\n",
              "        async function convertToInteractive(key) {\n",
              "          const element = document.querySelector('#df-ab074291-53f8-440a-aad3-14e2840a70b5');\n",
              "          const dataTable =\n",
              "            await google.colab.kernel.invokeFunction('convertToInteractive',\n",
              "                                                     [key], {});\n",
              "          if (!dataTable) return;\n",
              "\n",
              "          const docLinkHtml = 'Like what you see? Visit the ' +\n",
              "            '<a target=\"_blank\" href=https://colab.research.google.com/notebooks/data_table.ipynb>data table notebook</a>'\n",
              "            + ' to learn more about interactive tables.';\n",
              "          element.innerHTML = '';\n",
              "          dataTable['output_type'] = 'display_data';\n",
              "          await google.colab.output.renderOutput(dataTable, element);\n",
              "          const docLink = document.createElement('div');\n",
              "          docLink.innerHTML = docLinkHtml;\n",
              "          element.appendChild(docLink);\n",
              "        }\n",
              "      </script>\n",
              "    </div>\n",
              "  </div>\n",
              "  "
            ]
          },
          "metadata": {},
          "execution_count": 42
        }
      ]
    },
    {
      "cell_type": "code",
      "source": [
        "from sklearn.preprocessing import LabelEncoder           #or one hot encoder\n",
        "LE = LabelEncoder()\n",
        "df=df.apply(LE.fit_transform)                            #categorical values to integers"
      ],
      "metadata": {
        "id": "fQ3D4wCRAFLk"
      },
      "execution_count": 52,
      "outputs": []
    },
    {
      "cell_type": "code",
      "source": [
        "plt.figure(figsize=[25,15])\n",
        "sns.heatmap(df.corr(),annot=True)"
      ],
      "metadata": {
        "colab": {
          "base_uri": "https://localhost:8080/",
          "height": 995
        },
        "id": "NekQ14MuAQJr",
        "outputId": "c2e7ea74-a8cd-4600-baa2-cd66f15f8cc7"
      },
      "execution_count": 53,
      "outputs": [
        {
          "output_type": "execute_result",
          "data": {
            "text/plain": [
              "<AxesSubplot:>"
            ]
          },
          "metadata": {},
          "execution_count": 53
        },
        {
          "output_type": "display_data",
          "data": {
            "text/plain": [
              "<Figure size 1800x1080 with 2 Axes>"
            ],
            "image/png": "[encoded data removed]"
          },
          "metadata": {
            "needs_background": "light"
          }
        }
      ]
    },
    {
      "cell_type": "code",
      "source": [
        "for col in df.select_dtypes(include='object'):\n",
        "    if df[col].nunique() <= 22:\n",
        "        sns.countplot(y=col, data=df)"
      ],
      "metadata": {
        "id": "rAOBOUVbBGq7"
      },
      "execution_count": 54,
      "outputs": []
    },
    {
      "cell_type": "markdown",
      "source": [
        "# Handling imbalance data \n",
        "\n",
        "#upsampling "
      ],
      "metadata": {
        "id": "s2WEuV9QBSot"
      }
    },
    {
      "cell_type": "code",
      "source": [
        "x = df.drop('accident_severity', axis=1)\n",
        "y = df['accident_severity']\n",
        "\n",
        "xtrain, xtest, ytrain, ytest = train_test_split(x, y, test_size=0.3, random_state=42)\n",
        "print(xtrain.shape, xtest.shape, ytrain.shape, ytest.shape)"
      ],
      "metadata": {
        "colab": {
          "base_uri": "https://localhost:8080/"
        },
        "id": "979JiwFKBLF3",
        "outputId": "64c1b058-74f4-42c8-9a99-fe467bd0b538"
      },
      "execution_count": 55,
      "outputs": [
        {
          "output_type": "stream",
          "name": "stdout",
          "text": [
            "(8621, 18) (3695, 18) (8621,) (3695,)\n"
          ]
        }
      ]
    },
    {
      "cell_type": "code",
      "source": [
        "# upsampling using smote\n",
        "\n",
        "counter = Counter(ytrain)\n",
        "\n",
        "print(\"=============================\")\n",
        "\n",
        "for k,v in counter.items():\n",
        "    per = 100*v/len(ytrain)\n",
        "    print(f\"Class= {k}, n={v} ({per:.2f}%)\")\n",
        "\n",
        "oversample = SMOTE()\n",
        "xtrain, ytrain = oversample.fit_resample(xtrain, ytrain)\n",
        "\n",
        "counter = Counter(ytrain)\n",
        "\n",
        "print(\"=============================\")\n",
        "\n",
        "for k,v in counter.items():\n",
        "    per = 100*v/len(ytrain)\n",
        "    print(f\"Class= {k}, n={v} ({per:.2f}%)\")\n",
        "\n",
        "print(\"=============================\")\n",
        "\n",
        "print(\"Upsampled data shape: \", xtrain.shape, ytrain.shape)"
      ],
      "metadata": {
        "colab": {
          "base_uri": "https://localhost:8080/"
        },
        "id": "0tnExBmFBlsz",
        "outputId": "7681cf4a-22ce-4394-ef48-456d6aa2a0dd"
      },
      "execution_count": 56,
      "outputs": [
        {
          "output_type": "stream",
          "name": "stdout",
          "text": [
            "=============================\n",
            "Class= 2, n=7324 (84.96%)\n",
            "Class= 1, n=1191 (13.82%)\n",
            "Class= 0, n=106 (1.23%)\n",
            "=============================\n",
            "Class= 2, n=7324 (33.33%)\n",
            "Class= 1, n=7324 (33.33%)\n",
            "Class= 0, n=7324 (33.33%)\n",
            "=============================\n",
            "Upsampled data shape:  (21972, 18) (21972,)\n"
          ]
        }
      ]
    },
    {
      "cell_type": "markdown",
      "source": [
        "# Splitting test and train data"
      ],
      "metadata": {
        "id": "AOQBbOxMBzXe"
      }
    },
    {
      "cell_type": "code",
      "source": [
        "x=df.drop(columns=[\"accident_severity\"])\n",
        "y=df[\"accident_severity\"]"
      ],
      "metadata": {
        "id": "wlqx3WC9B45F"
      },
      "execution_count": 57,
      "outputs": []
    },
    {
      "cell_type": "markdown",
      "source": [
        "# Model implementation "
      ],
      "metadata": {
        "id": "fBIBTLf6CIIf"
      }
    },
    {
      "cell_type": "code",
      "source": [
        "models={\"SVM\":SVC(),\n",
        "        \"KNeighborsClassifier\":KNeighborsClassifier(),\n",
        "       \"RandomForestClassifier\":RandomForestClassifier(),\n",
        "        \"AdaBoostClassifier\":AdaBoostClassifier(),\n",
        "        \"GradientBoostingClassifier\":GradientBoostingClassifier(),\n",
        "        }"
      ],
      "metadata": {
        "id": "uJwkTfhLCMGP"
      },
      "execution_count": 58,
      "outputs": []
    },
    {
      "cell_type": "code",
      "source": [
        "# models,x,y,scaleFlag=0,1,2\n",
        "def modelAccuracy(models,x,y,scaleFlag):\n",
        "    #train/Test\n",
        "    xtrain,xtest,ytrain,ytest=train_test_split(x,y,test_size=0.2,random_state=0)\n",
        "    acc_result={}\n",
        "    for name,model in models.items():\n",
        "        #pipeline\n",
        "        #1.Transformer -> 2.Model\n",
        "        if(scaleFlag==1):\n",
        "            model_pipeline=Pipeline([('MinMaxScler',MinMaxScaler()),('model',model)])\n",
        "        elif(scaleFlag==2):\n",
        "             model_pipeline=Pipeline([('StandardScaler',StandardScaler()),('model',model)])\n",
        "        else:\n",
        "            model_pipeline=Pipeline([('model',model)])\n",
        "        #training/testing on model pipeline\n",
        "        model_fit=model_pipeline.fit(xtrain,ytrain)\n",
        "        ypred=model_fit.predict(xtest)\n",
        "        acc=accuracy_score(ytest,ypred)\n",
        "        print(\"The Accuracy for \",name,\" is :\",acc)\n",
        "        acc_result[name]=acc\n",
        "    return acc_result"
      ],
      "metadata": {
        "id": "QkJFE68-DCNc"
      },
      "execution_count": 59,
      "outputs": []
    },
    {
      "cell_type": "code",
      "source": [
        "def bestModel(result):\n",
        "    high=0\n",
        "    for name,acc in result.items():\n",
        "        if acc>high:\n",
        "            high=acc\n",
        "            model_name=name\n",
        "    print(\"Best Model is \",model_name,\" with accuaracy =>\",high)"
      ],
      "metadata": {
        "id": "lKSOoGPzDLiv"
      },
      "execution_count": 60,
      "outputs": []
    },
    {
      "cell_type": "code",
      "source": [
        "def bestParams(model,param,xtrain,ytrain):\n",
        "    #cv\n",
        "    cv=RepeatedStratifiedKFold(n_splits=5,n_repeats=3)\n",
        "    grid_cv=GridSearchCV(estimator=model,param_grid=param,cv=cv,scoring=\"f1_weighted\")\n",
        "    res=grid_cv.fit(xtrain,ytrain)\n",
        "    print(\"Best Parameters are \",res.best_params_)\n",
        "    print(\"Best Accuracy is \",res.best_score_)"
      ],
      "metadata": {
        "id": "cLG-OdBgDMP2"
      },
      "execution_count": 61,
      "outputs": []
    },
    {
      "cell_type": "code",
      "source": [
        "bestParams\n"
      ],
      "metadata": {
        "colab": {
          "base_uri": "https://localhost:8080/"
        },
        "id": "2mLZiwXjDPVr",
        "outputId": "b6132ec3-1b3d-44a7-88ed-291d89226aa4"
      },
      "execution_count": 62,
      "outputs": [
        {
          "output_type": "execute_result",
          "data": {
            "text/plain": [
              "<function __main__.bestParams(model, param, xtrain, ytrain)>"
            ]
          },
          "metadata": {},
          "execution_count": 62
        }
      ]
    },
    {
      "cell_type": "code",
      "source": [
        "acc=modelAccuracy(models,x,y,1)\n"
      ],
      "metadata": {
        "colab": {
          "base_uri": "https://localhost:8080/"
        },
        "id": "67nwsckPDRhA",
        "outputId": "16ace6e1-5ec5-457c-e9cc-f784a9fcf652"
      },
      "execution_count": 63,
      "outputs": [
        {
          "output_type": "stream",
          "name": "stdout",
          "text": [
            "The Accuracy for  SVM  is : 0.84375\n",
            "The Accuracy for  KNeighborsClassifier  is : 0.8262987012987013\n",
            "The Accuracy for  RandomForestClassifier  is : 0.8474025974025974\n",
            "The Accuracy for  AdaBoostClassifier  is : 0.8425324675324676\n",
            "The Accuracy for  GradientBoostingClassifier  is : 0.849025974025974\n"
          ]
        }
      ]
    },
    {
      "cell_type": "code",
      "source": [
        "bestModel(acc)\n"
      ],
      "metadata": {
        "colab": {
          "base_uri": "https://localhost:8080/"
        },
        "id": "U0E5wlniDTUQ",
        "outputId": "53d5e49c-0823-40a2-a512-82bc7098368d"
      },
      "execution_count": 64,
      "outputs": [
        {
          "output_type": "stream",
          "name": "stdout",
          "text": [
            "Best Model is  GradientBoostingClassifier  with accuaracy => 0.849025974025974\n"
          ]
        }
      ]
    },
    {
      "cell_type": "code",
      "source": [
        "model=RandomForestClassifier()\n",
        "params={\"n_estimators\" : [100,200],\n",
        "        \"criterion\" : [\"gini\",\"entropy\"]\n",
        "        }\n",
        "bestParams(model,params,xtrain,ytrain)"
      ],
      "metadata": {
        "colab": {
          "base_uri": "https://localhost:8080/"
        },
        "id": "5P80OPU7DVbR",
        "outputId": "657c7f3b-097c-44d8-aa5c-276b72ff9d5d"
      },
      "execution_count": 65,
      "outputs": [
        {
          "output_type": "stream",
          "name": "stdout",
          "text": [
            "Best Parameters are  {'criterion': 'entropy', 'n_estimators': 200}\n",
            "Best Accuracy is  0.9192551440793078\n"
          ]
        }
      ]
    },
    {
      "cell_type": "code",
      "source": [
        "#retrain the model with best parameters\n",
        "model=RandomForestClassifier(criterion=\"entropy\",n_estimators=200)\n",
        "model.fit(xtrain,ytrain)\n",
        "ypred=model.predict(xtest)"
      ],
      "metadata": {
        "id": "OJaR87inDX2P"
      },
      "execution_count": 66,
      "outputs": []
    },
    {
      "cell_type": "code",
      "source": [
        "#Final Evaluation\n",
        "print(accuracy_score(ytest,ypred))\n",
        "print(classification_report(ytest,ypred))\n",
        "cm=confusion_matrix(ytest,ypred)\n",
        "sns.heatmap(cm,annot=True)"
      ],
      "metadata": {
        "colab": {
          "base_uri": "https://localhost:8080/",
          "height": 473
        },
        "id": "jvkwnCgiDafD",
        "outputId": "33b484ca-2fcc-4469-9b65-6d90748facce"
      },
      "execution_count": 67,
      "outputs": [
        {
          "output_type": "stream",
          "name": "stdout",
          "text": [
            "0.7683355886332882\n",
            "              precision    recall  f1-score   support\n",
            "\n",
            "           0       0.06      0.04      0.05        52\n",
            "           1       0.23      0.18      0.20       552\n",
            "           2       0.85      0.89      0.87      3091\n",
            "\n",
            "    accuracy                           0.77      3695\n",
            "   macro avg       0.38      0.37      0.37      3695\n",
            "weighted avg       0.75      0.77      0.76      3695\n",
            "\n"
          ]
        },
        {
          "output_type": "execute_result",
          "data": {
            "text/plain": [
              "<AxesSubplot:>"
            ]
          },
          "metadata": {},
          "execution_count": 67
        },
        {
          "output_type": "display_data",
          "data": {
            "text/plain": [
              "<Figure size 432x288 with 2 Axes>"
            ],
            "image/png": "[encoded data removed]"
          },
          "metadata": {
            "needs_background": "light"
          }
        }
      ]
    },
    {
      "cell_type": "code",
      "source": [],
      "metadata": {
        "id": "kpXnBFeoDdFO"
      },
      "execution_count": null,
      "outputs": []
    }
  ]
}